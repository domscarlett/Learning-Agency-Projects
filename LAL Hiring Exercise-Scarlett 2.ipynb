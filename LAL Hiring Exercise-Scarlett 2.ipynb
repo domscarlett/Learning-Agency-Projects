{
 "cells": [
  {
   "cell_type": "markdown",
   "id": "9c82b327",
   "metadata": {},
   "source": [
    "# Learning Agency Lab Hiring Exercise\n",
    "## Dominic Scarlett"
   ]
  },
  {
   "cell_type": "code",
   "execution_count": 1,
   "id": "92c9ec6e",
   "metadata": {},
   "outputs": [],
   "source": [
    "import pandas as pd\n",
    "import matplotlib.pyplot as plt\n",
    "import seaborn as sns\n",
    "import scipy.stats as stats\n",
    "import numpy as np"
   ]
  },
  {
   "cell_type": "code",
   "execution_count": 2,
   "id": "386cac0b",
   "metadata": {},
   "outputs": [
    {
     "data": {
      "text/html": [
       "<div>\n",
       "<style scoped>\n",
       "    .dataframe tbody tr th:only-of-type {\n",
       "        vertical-align: middle;\n",
       "    }\n",
       "\n",
       "    .dataframe tbody tr th {\n",
       "        vertical-align: top;\n",
       "    }\n",
       "\n",
       "    .dataframe thead th {\n",
       "        text-align: right;\n",
       "    }\n",
       "</style>\n",
       "<table border=\"1\" class=\"dataframe\">\n",
       "  <thead>\n",
       "    <tr style=\"text-align: right;\">\n",
       "      <th></th>\n",
       "      <th>Unnamed: 0</th>\n",
       "      <th>NAME OF THE STUDENT</th>\n",
       "      <th>UNIVERSITY</th>\n",
       "      <th>PROGRAM NAME</th>\n",
       "      <th>Specialisation</th>\n",
       "      <th>SEMESTER</th>\n",
       "      <th>Domain</th>\n",
       "      <th>GENERAL MANAGEMENT SCORE (OUT of 50)</th>\n",
       "      <th>Domain Specific SCORE (OUT 50)</th>\n",
       "      <th>TOTAL SCORE (OUT of 100)</th>\n",
       "      <th>RANK</th>\n",
       "      <th>PERCENTILE</th>\n",
       "    </tr>\n",
       "  </thead>\n",
       "  <tbody>\n",
       "    <tr>\n",
       "      <th>0</th>\n",
       "      <td>0</td>\n",
       "      <td>Camila Wood</td>\n",
       "      <td>Stanford University, USA</td>\n",
       "      <td>B.Com</td>\n",
       "      <td>Honours</td>\n",
       "      <td>5th</td>\n",
       "      <td>Finance</td>\n",
       "      <td>50</td>\n",
       "      <td>50</td>\n",
       "      <td>100</td>\n",
       "      <td>1</td>\n",
       "      <td>1.000000</td>\n",
       "    </tr>\n",
       "    <tr>\n",
       "      <th>1</th>\n",
       "      <td>1</td>\n",
       "      <td>Alexander Thompson</td>\n",
       "      <td>Stanford University, USA</td>\n",
       "      <td>B.Com</td>\n",
       "      <td>Financial Services</td>\n",
       "      <td>5th</td>\n",
       "      <td>Finance</td>\n",
       "      <td>50</td>\n",
       "      <td>50</td>\n",
       "      <td>100</td>\n",
       "      <td>2</td>\n",
       "      <td>0.993377</td>\n",
       "    </tr>\n",
       "    <tr>\n",
       "      <th>2</th>\n",
       "      <td>2</td>\n",
       "      <td>Liam Taylor</td>\n",
       "      <td>Harvard University, USA</td>\n",
       "      <td>B.Com</td>\n",
       "      <td>Accounting Analytics</td>\n",
       "      <td>5th</td>\n",
       "      <td>BA</td>\n",
       "      <td>50</td>\n",
       "      <td>50</td>\n",
       "      <td>100</td>\n",
       "      <td>3</td>\n",
       "      <td>0.986755</td>\n",
       "    </tr>\n",
       "    <tr>\n",
       "      <th>3</th>\n",
       "      <td>3</td>\n",
       "      <td>Evelyn Jenkins</td>\n",
       "      <td>Stanford University, USA</td>\n",
       "      <td>B.Com</td>\n",
       "      <td>Honours</td>\n",
       "      <td>5th</td>\n",
       "      <td>Finance</td>\n",
       "      <td>49</td>\n",
       "      <td>50</td>\n",
       "      <td>99</td>\n",
       "      <td>4</td>\n",
       "      <td>0.980132</td>\n",
       "    </tr>\n",
       "    <tr>\n",
       "      <th>4</th>\n",
       "      <td>4</td>\n",
       "      <td>Michael Jackson</td>\n",
       "      <td>Harvard University, USA</td>\n",
       "      <td>MBA</td>\n",
       "      <td>International Business</td>\n",
       "      <td>3rd</td>\n",
       "      <td>IB</td>\n",
       "      <td>50</td>\n",
       "      <td>49</td>\n",
       "      <td>99</td>\n",
       "      <td>5</td>\n",
       "      <td>0.973510</td>\n",
       "    </tr>\n",
       "  </tbody>\n",
       "</table>\n",
       "</div>"
      ],
      "text/plain": [
       "   Unnamed: 0 NAME OF THE STUDENT                UNIVERSITY PROGRAM NAME  \\\n",
       "0           0         Camila Wood  Stanford University, USA        B.Com   \n",
       "1           1  Alexander Thompson  Stanford University, USA        B.Com   \n",
       "2           2         Liam Taylor   Harvard University, USA        B.Com   \n",
       "3           3      Evelyn Jenkins  Stanford University, USA        B.Com   \n",
       "4           4     Michael Jackson   Harvard University, USA          MBA   \n",
       "\n",
       "           Specialisation SEMESTER   Domain  \\\n",
       "0                 Honours      5th  Finance   \n",
       "1      Financial Services      5th  Finance   \n",
       "2    Accounting Analytics      5th       BA   \n",
       "3                 Honours      5th  Finance   \n",
       "4  International Business      3rd       IB   \n",
       "\n",
       "   GENERAL MANAGEMENT SCORE (OUT of 50)  Domain Specific SCORE (OUT 50)  \\\n",
       "0                                    50                              50   \n",
       "1                                    50                              50   \n",
       "2                                    50                              50   \n",
       "3                                    49                              50   \n",
       "4                                    50                              49   \n",
       "\n",
       "   TOTAL SCORE (OUT of 100)  RANK  PERCENTILE  \n",
       "0                       100     1    1.000000  \n",
       "1                       100     2    0.993377  \n",
       "2                       100     3    0.986755  \n",
       "3                        99     4    0.980132  \n",
       "4                        99     5    0.973510  "
      ]
     },
     "execution_count": 2,
     "metadata": {},
     "output_type": "execute_result"
    }
   ],
   "source": [
    "data=pd.read_csv('Job Search/archive/Private_data.csv')\n",
    "data.head()"
   ]
  },
  {
   "cell_type": "markdown",
   "id": "fb839203",
   "metadata": {},
   "source": [
    "# Data Exploration\n",
    "\n",
    "We can start by examining some descriptive stats of the numeric variables to get a sense for their distributions and see if there's anything worth further investigation. Specifically, the scores are likely to be an outcome of interest, while the rank and percentiles are ordinal variables based on the scores and therefore statistics of them are not enlightening. Further, as mentioned in Part 1, it's not clear whether the fact that every student has a unique percentile and rank regardless of score is not erroneous, so for purposes of this analysis, they will not be treated as outcomes of interest."
   ]
  },
  {
   "cell_type": "code",
   "execution_count": 3,
   "id": "185bf9dc",
   "metadata": {},
   "outputs": [
    {
     "data": {
      "text/html": [
       "<div>\n",
       "<style scoped>\n",
       "    .dataframe tbody tr th:only-of-type {\n",
       "        vertical-align: middle;\n",
       "    }\n",
       "\n",
       "    .dataframe tbody tr th {\n",
       "        vertical-align: top;\n",
       "    }\n",
       "\n",
       "    .dataframe thead th {\n",
       "        text-align: right;\n",
       "    }\n",
       "</style>\n",
       "<table border=\"1\" class=\"dataframe\">\n",
       "  <thead>\n",
       "    <tr style=\"text-align: right;\">\n",
       "      <th></th>\n",
       "      <th>Unnamed: 0</th>\n",
       "      <th>GENERAL MANAGEMENT SCORE (OUT of 50)</th>\n",
       "      <th>Domain Specific SCORE (OUT 50)</th>\n",
       "      <th>TOTAL SCORE (OUT of 100)</th>\n",
       "      <th>RANK</th>\n",
       "      <th>PERCENTILE</th>\n",
       "    </tr>\n",
       "  </thead>\n",
       "  <tbody>\n",
       "    <tr>\n",
       "      <th>count</th>\n",
       "      <td>151.000000</td>\n",
       "      <td>151.000000</td>\n",
       "      <td>151.000000</td>\n",
       "      <td>151.000000</td>\n",
       "      <td>151.000000</td>\n",
       "      <td>151.000000</td>\n",
       "    </tr>\n",
       "    <tr>\n",
       "      <th>mean</th>\n",
       "      <td>75.000000</td>\n",
       "      <td>37.993377</td>\n",
       "      <td>33.635762</td>\n",
       "      <td>71.629139</td>\n",
       "      <td>76.000000</td>\n",
       "      <td>0.503311</td>\n",
       "    </tr>\n",
       "    <tr>\n",
       "      <th>std</th>\n",
       "      <td>43.734045</td>\n",
       "      <td>10.734056</td>\n",
       "      <td>11.866751</td>\n",
       "      <td>21.200823</td>\n",
       "      <td>43.734045</td>\n",
       "      <td>0.289629</td>\n",
       "    </tr>\n",
       "    <tr>\n",
       "      <th>min</th>\n",
       "      <td>0.000000</td>\n",
       "      <td>4.000000</td>\n",
       "      <td>1.000000</td>\n",
       "      <td>5.000000</td>\n",
       "      <td>1.000000</td>\n",
       "      <td>0.006623</td>\n",
       "    </tr>\n",
       "    <tr>\n",
       "      <th>25%</th>\n",
       "      <td>37.500000</td>\n",
       "      <td>32.500000</td>\n",
       "      <td>27.000000</td>\n",
       "      <td>62.000000</td>\n",
       "      <td>38.500000</td>\n",
       "      <td>0.254967</td>\n",
       "    </tr>\n",
       "    <tr>\n",
       "      <th>50%</th>\n",
       "      <td>75.000000</td>\n",
       "      <td>40.000000</td>\n",
       "      <td>36.000000</td>\n",
       "      <td>74.000000</td>\n",
       "      <td>76.000000</td>\n",
       "      <td>0.503311</td>\n",
       "    </tr>\n",
       "    <tr>\n",
       "      <th>75%</th>\n",
       "      <td>112.500000</td>\n",
       "      <td>47.000000</td>\n",
       "      <td>43.000000</td>\n",
       "      <td>89.000000</td>\n",
       "      <td>113.500000</td>\n",
       "      <td>0.751656</td>\n",
       "    </tr>\n",
       "    <tr>\n",
       "      <th>max</th>\n",
       "      <td>150.000000</td>\n",
       "      <td>50.000000</td>\n",
       "      <td>50.000000</td>\n",
       "      <td>100.000000</td>\n",
       "      <td>151.000000</td>\n",
       "      <td>1.000000</td>\n",
       "    </tr>\n",
       "  </tbody>\n",
       "</table>\n",
       "</div>"
      ],
      "text/plain": [
       "       Unnamed: 0  GENERAL MANAGEMENT SCORE (OUT of 50)  \\\n",
       "count  151.000000                            151.000000   \n",
       "mean    75.000000                             37.993377   \n",
       "std     43.734045                             10.734056   \n",
       "min      0.000000                              4.000000   \n",
       "25%     37.500000                             32.500000   \n",
       "50%     75.000000                             40.000000   \n",
       "75%    112.500000                             47.000000   \n",
       "max    150.000000                             50.000000   \n",
       "\n",
       "       Domain Specific SCORE (OUT 50)  TOTAL SCORE (OUT of 100)        RANK  \\\n",
       "count                      151.000000                151.000000  151.000000   \n",
       "mean                        33.635762                 71.629139   76.000000   \n",
       "std                         11.866751                 21.200823   43.734045   \n",
       "min                          1.000000                  5.000000    1.000000   \n",
       "25%                         27.000000                 62.000000   38.500000   \n",
       "50%                         36.000000                 74.000000   76.000000   \n",
       "75%                         43.000000                 89.000000  113.500000   \n",
       "max                         50.000000                100.000000  151.000000   \n",
       "\n",
       "       PERCENTILE  \n",
       "count  151.000000  \n",
       "mean     0.503311  \n",
       "std      0.289629  \n",
       "min      0.006623  \n",
       "25%      0.254967  \n",
       "50%      0.503311  \n",
       "75%      0.751656  \n",
       "max      1.000000  "
      ]
     },
     "execution_count": 3,
     "metadata": {},
     "output_type": "execute_result"
    }
   ],
   "source": [
    "data.describe()"
   ]
  },
  {
   "cell_type": "markdown",
   "id": "2ab2d319",
   "metadata": {},
   "source": [
    "On average, the students performed better on the general management (GM) portion of the exam than the Domain Specific (DS) portion by a little over 4 points. The standard deviations of the portion scores are comparable, though the GM's SD is smaller likely because its mean is closer to the maximum possible value. On both portions, the median score is a few points higher than the mean score, suggesting that the distributions are skewed towards high scores."
   ]
  },
  {
   "cell_type": "code",
   "execution_count": 4,
   "id": "f806fd43",
   "metadata": {},
   "outputs": [
    {
     "data": {
      "image/png": "[encoded data removed]",
      "text/plain": [
       "<Figure size 640x480 with 1 Axes>"
      ]
     },
     "metadata": {},
     "output_type": "display_data"
    }
   ],
   "source": [
    "x=data['GENERAL MANAGEMENT SCORE (OUT of 50)']\n",
    "y=data['Domain Specific SCORE (OUT 50)']\n",
    "\n",
    "a, b = np.polyfit(x, y, 1)\n",
    "plt.scatter(x, y)\n",
    "plt.plot(x, a*x+b)\n",
    "plt.xlabel(\"General Management Score\")\n",
    "plt.ylabel(\"Domain-specific Score\")\n",
    "plt.show()"
   ]
  },
  {
   "cell_type": "markdown",
   "id": "045fd5ef",
   "metadata": {},
   "source": [
    "Unsurprisingly, the scores for each portion of the exam are positively related."
   ]
  },
  {
   "cell_type": "code",
   "execution_count": 5,
   "id": "a9d31de3",
   "metadata": {},
   "outputs": [
    {
     "data": {
      "text/plain": [
       "Text(0.5, 1.0, 'Domain-specific')"
      ]
     },
     "execution_count": 5,
     "metadata": {},
     "output_type": "execute_result"
    },
    {
     "data": {
      "image/png": "[encoded data removed]",
      "text/plain": [
       "<Figure size 640x480 with 2 Axes>"
      ]
     },
     "metadata": {},
     "output_type": "display_data"
    }
   ],
   "source": [
    "fig, axs = plt.subplots(1, 2, sharey=True, tight_layout=True)\n",
    "\n",
    "axs[0].hist(data.iloc[:,7], bins=10)\n",
    "axs[0].set_title('General Management')\n",
    "axs[1].hist(data.iloc[:,8], bins=10)\n",
    "axs[1].set_title('Domain-specific')"
   ]
  },
  {
   "cell_type": "markdown",
   "id": "20d4d8b2",
   "metadata": {},
   "source": [
    "Histograms make clear the only obvious difference between the portion scores, which is that very high scores were more common on the GM portion. While this finding may be interesting in and of itself, depending on the potential explanations, it was not especially difficult to ascertain and therefore is probably not surprising to those with knowledge of the examination. We're more likely to discover something insightful by exploring the relationships between the heretofore unexamined categorical variables and the scores. Let's start by examining the categorical variables."
   ]
  },
  {
   "cell_type": "code",
   "execution_count": 6,
   "id": "9a083b22",
   "metadata": {},
   "outputs": [
    {
     "data": {
      "text/plain": [
       "UNIVERSITY\n",
       "Harvard University, USA                              75\n",
       "Stanford University, USA                             50\n",
       "University of Oxford, UK                             12\n",
       "Massachusetts Institute of Technology (MIT), USA      9\n",
       "University of Cambridge, UK                           2\n",
       "California Institute of Technology (Caltech), USA     2\n",
       "Imperial College London, UK                           1\n",
       "Name: count, dtype: int64"
      ]
     },
     "execution_count": 6,
     "metadata": {},
     "output_type": "execute_result"
    }
   ],
   "source": [
    "pd.value_counts(data['UNIVERSITY'])"
   ]
  },
  {
   "cell_type": "code",
   "execution_count": 7,
   "id": "7b9a7fb5",
   "metadata": {},
   "outputs": [
    {
     "data": {
      "text/plain": [
       "PROGRAM NAME\n",
       "MBA              57\n",
       "BBA              44\n",
       "B.Com            37\n",
       "Intg. BBA+MBA    13\n",
       "Name: count, dtype: int64"
      ]
     },
     "execution_count": 7,
     "metadata": {},
     "output_type": "execute_result"
    }
   ],
   "source": [
    "pd.value_counts(data['PROGRAM NAME'])"
   ]
  },
  {
   "cell_type": "code",
   "execution_count": 8,
   "id": "41747abe",
   "metadata": {},
   "outputs": [
    {
     "data": {
      "text/plain": [
       "Specialisation\n",
       "International Business                                 51\n",
       "Financial Services                                     23\n",
       "Innovation Entrepreneurship and Venture Development    18\n",
       "Business Analytics                                     12\n",
       "Information Technology with Accounting Analytics       12\n",
       "Digital Marketing                                      11\n",
       "Honours                                                 8\n",
       "Finance                                                 4\n",
       "Financial Services with Digital Finance                 3\n",
       "Entrepreneurship & Innovation                           3\n",
       "Brand Management                                        3\n",
       "Accounting Analytics                                    1\n",
       "Accounting                                              1\n",
       "Banking and Financial Services                          1\n",
       "Name: count, dtype: int64"
      ]
     },
     "execution_count": 8,
     "metadata": {},
     "output_type": "execute_result"
    }
   ],
   "source": [
    "pd.value_counts(data['Specialisation'])"
   ]
  },
  {
   "cell_type": "code",
   "execution_count": 9,
   "id": "9528f29b",
   "metadata": {},
   "outputs": [
    {
     "data": {
      "text/plain": [
       "SEMESTER\n",
       "5th    80\n",
       "3rd    59\n",
       "9th    12\n",
       "Name: count, dtype: int64"
      ]
     },
     "execution_count": 9,
     "metadata": {},
     "output_type": "execute_result"
    }
   ],
   "source": [
    "pd.value_counts(data['SEMESTER'])"
   ]
  },
  {
   "cell_type": "code",
   "execution_count": 10,
   "id": "26db4168",
   "metadata": {},
   "outputs": [
    {
     "data": {
      "text/plain": [
       "Domain\n",
       "IB         47\n",
       "Finance    41\n",
       "E&I        22\n",
       "BA         21\n",
       "DM         13\n",
       "Generic     7\n",
       "Name: count, dtype: int64"
      ]
     },
     "execution_count": 10,
     "metadata": {},
     "output_type": "execute_result"
    }
   ],
   "source": [
    "pd.value_counts(data['Domain'])"
   ]
  },
  {
   "cell_type": "markdown",
   "id": "bdecd94b",
   "metadata": {},
   "source": [
    "# Data Cleaning & Investigating Superficial Relationships\n",
    "\n",
    "As mentioned in Part 1, some of the categories have so few observations that they are not useful for drawing inferences due to the likelihood of sampling error. It is possible that some of the categories have enough in common with another that there may be a theoretical reason to believe that phenomena for them will be equivalent to those of the other. For example, perhaps it would be most appropriate to combine the observations of \"Entrepreneurship & Innovation\" with those of \"Innovation Entrepreneurship and Venture Development\" because they are functionally equivalent programs with different names. The advantage of this would be that the three observations in the former category could be combined with a larger category and therefore used to make inferences. However, without more theoretical knowledge of the programs in question, this is too presumptuous. Therefore, for the sake of expedience, we can combine categories with low numbers of observations into \"Other\" categories that will not be used to draw inferences. Choosing what counts as a \"low number\" of observations is somewhat arbitrary, but in this case we will use categories that account for less than 10% of the data (i.e. <16 observations)."
   ]
  },
  {
   "cell_type": "code",
   "execution_count": 11,
   "id": "bcb36b35",
   "metadata": {},
   "outputs": [],
   "source": [
    "#Create a new variable with replaced values so as not to throw away data that we may want to use later.\n",
    "data['Uni']=data['UNIVERSITY'].str.replace('University of Oxford, UK','Other').replace('Massachusetts Institute of Technology (MIT), USA','Other').replace('University of Cambridge, UK','Other').replace('California Institute of Technology (Caltech), USA','Other').replace('Imperial College London, UK','Other')"
   ]
  },
  {
   "cell_type": "code",
   "execution_count": 12,
   "id": "ee0ed26f",
   "metadata": {},
   "outputs": [
    {
     "data": {
      "text/plain": [
       "Uni\n",
       "Harvard University, USA     75\n",
       "Stanford University, USA    50\n",
       "Other                       26\n",
       "Name: count, dtype: int64"
      ]
     },
     "execution_count": 12,
     "metadata": {},
     "output_type": "execute_result"
    }
   ],
   "source": [
    "pd.value_counts(data['Uni']) #Check that it worked as intended."
   ]
  },
  {
   "cell_type": "markdown",
   "id": "2a93e260",
   "metadata": {},
   "source": [
    "In the case of the Program Name and Semester variables, there is only one category that counts as too small, so it cannot be combined into an \"Other category.\" In the case of the Domain variable, there are two small categories, but because they do not clearly share anything in common, the information lost by combining them doesn't justify the minor gain in parsimony.\n",
    "\n",
    "Now we can start examining differences in outcomes between categories. Given my background in academic research, it is unusal for me to look for patterns in data without a theoretical basis or working hypothesis about what I expect to find. However, because of my lack of knowledge of the data generating process, I cannot derive these on my own. As a result, I will refrain from inferring that any patterns observed are meaningful or causal, though they may be interesting enough to warrant further examination in future research.\n",
    "\n",
    "## Exam scores of \"Big 2\" students vs. those of other universities"
   ]
  },
  {
   "cell_type": "code",
   "execution_count": 13,
   "id": "2dfdff67",
   "metadata": {},
   "outputs": [
    {
     "data": {
      "text/plain": [
       "<matplotlib.legend.Legend at 0x2647218a4d0>"
      ]
     },
     "execution_count": 13,
     "metadata": {},
     "output_type": "execute_result"
    },
    {
     "data": {
      "image/png": "[encoded data removed]",
      "text/plain": [
       "<Figure size 640x480 with 1 Axes>"
      ]
     },
     "metadata": {},
     "output_type": "display_data"
    }
   ],
   "source": [
    "x1 = data.loc[data.Uni=='Harvard University, USA', 'TOTAL SCORE (OUT of 100)']\n",
    "x2 = data.loc[data.Uni=='Stanford University, USA', 'TOTAL SCORE (OUT of 100)']\n",
    "x3 = data.loc[data.Uni=='Other', 'TOTAL SCORE (OUT of 100)']\n",
    "\n",
    "plt.hist([x1,x2,x3], color=['b','r','y'], label=['Harvard','Stanford','Other'],bins=20)\n",
    "plt.xlabel(\"Total Score\")\n",
    "plt.ylabel(\"Number of observations\")\n",
    "plt.legend()"
   ]
  },
  {
   "cell_type": "markdown",
   "id": "5afe2acd",
   "metadata": {},
   "source": [
    "From the figure above, we can see that students from the \"Big 2\" of Harvard and Stanford tended  to perform better than those from all other institutions. However, precise differences in categories are obscured somewhat in the histogram by the difference in observations between them. Therefore, it is also useful to compare statistics rather than raw distributions."
   ]
  },
  {
   "cell_type": "code",
   "execution_count": 14,
   "id": "ecceb7e0",
   "metadata": {},
   "outputs": [],
   "source": [
    "score_by_uni=data.groupby(\"Uni\")[\"TOTAL SCORE (OUT of 100)\"]"
   ]
  },
  {
   "cell_type": "code",
   "execution_count": 15,
   "id": "e13ffdb0",
   "metadata": {},
   "outputs": [
    {
     "data": {
      "text/html": [
       "<div>\n",
       "<style scoped>\n",
       "    .dataframe tbody tr th:only-of-type {\n",
       "        vertical-align: middle;\n",
       "    }\n",
       "\n",
       "    .dataframe tbody tr th {\n",
       "        vertical-align: top;\n",
       "    }\n",
       "\n",
       "    .dataframe thead th {\n",
       "        text-align: right;\n",
       "    }\n",
       "</style>\n",
       "<table border=\"1\" class=\"dataframe\">\n",
       "  <thead>\n",
       "    <tr style=\"text-align: right;\">\n",
       "      <th></th>\n",
       "      <th>count</th>\n",
       "      <th>mean</th>\n",
       "      <th>std</th>\n",
       "      <th>min</th>\n",
       "      <th>25%</th>\n",
       "      <th>50%</th>\n",
       "      <th>75%</th>\n",
       "      <th>max</th>\n",
       "    </tr>\n",
       "    <tr>\n",
       "      <th>Uni</th>\n",
       "      <th></th>\n",
       "      <th></th>\n",
       "      <th></th>\n",
       "      <th></th>\n",
       "      <th></th>\n",
       "      <th></th>\n",
       "      <th></th>\n",
       "      <th></th>\n",
       "    </tr>\n",
       "  </thead>\n",
       "  <tbody>\n",
       "    <tr>\n",
       "      <th>Harvard University, USA</th>\n",
       "      <td>75.0</td>\n",
       "      <td>72.773333</td>\n",
       "      <td>19.803476</td>\n",
       "      <td>24.0</td>\n",
       "      <td>64.00</td>\n",
       "      <td>75.0</td>\n",
       "      <td>88.50</td>\n",
       "      <td>100.0</td>\n",
       "    </tr>\n",
       "    <tr>\n",
       "      <th>Other</th>\n",
       "      <td>26.0</td>\n",
       "      <td>65.346154</td>\n",
       "      <td>22.314018</td>\n",
       "      <td>5.0</td>\n",
       "      <td>62.00</td>\n",
       "      <td>68.0</td>\n",
       "      <td>77.25</td>\n",
       "      <td>96.0</td>\n",
       "    </tr>\n",
       "    <tr>\n",
       "      <th>Stanford University, USA</th>\n",
       "      <td>50.0</td>\n",
       "      <td>73.180000</td>\n",
       "      <td>22.455116</td>\n",
       "      <td>20.0</td>\n",
       "      <td>58.25</td>\n",
       "      <td>81.0</td>\n",
       "      <td>90.00</td>\n",
       "      <td>100.0</td>\n",
       "    </tr>\n",
       "  </tbody>\n",
       "</table>\n",
       "</div>"
      ],
      "text/plain": [
       "                          count       mean        std   min    25%   50%  \\\n",
       "Uni                                                                        \n",
       "Harvard University, USA    75.0  72.773333  19.803476  24.0  64.00  75.0   \n",
       "Other                      26.0  65.346154  22.314018   5.0  62.00  68.0   \n",
       "Stanford University, USA   50.0  73.180000  22.455116  20.0  58.25  81.0   \n",
       "\n",
       "                            75%    max  \n",
       "Uni                                     \n",
       "Harvard University, USA   88.50  100.0  \n",
       "Other                     77.25   96.0  \n",
       "Stanford University, USA  90.00  100.0  "
      ]
     },
     "execution_count": 15,
     "metadata": {},
     "output_type": "execute_result"
    }
   ],
   "source": [
    "score_by_uni.describe()"
   ]
  },
  {
   "cell_type": "markdown",
   "id": "15df2e55",
   "metadata": {},
   "source": [
    "The mean score of Harvard and Stanford students are nearly equal, although Stanford's median score is higher, suggesting its mean is dragged down more by low outliers. Because the means and medians of the Big 2 are so close, there is not likely a significant difference between them. However, there may be a significant difference between the Big 2's and all other universities' scores. This could make some theoretical sense if we assume that the Big 2 have more students in the data because they have larger, more prestigious programs than other universities and therefore their students should be expected to score higher."
   ]
  },
  {
   "cell_type": "code",
   "execution_count": 16,
   "id": "ef248364",
   "metadata": {},
   "outputs": [],
   "source": [
    "B2_scores=data.loc[data['Uni'].isin(['Harvard University, USA','Stanford University, USA'])]\n",
    "B2_scores=B2_scores['TOTAL SCORE (OUT of 100)']"
   ]
  },
  {
   "cell_type": "code",
   "execution_count": 17,
   "id": "1a11b231",
   "metadata": {},
   "outputs": [],
   "source": [
    "Other_uni_scores=data.loc[data['Uni']=='Other']\n",
    "Other_uni_scores=Other_uni_scores['TOTAL SCORE (OUT of 100)']"
   ]
  },
  {
   "cell_type": "markdown",
   "id": "fbd3885f",
   "metadata": {},
   "source": [
    "It's visible from the histogram above that neither group is normally distributed and the number of observations in the \"other\" group is small, so it's most appropriate to use a non-parametric test to determine if there is a significant difference in scores between the groups. Due to the circumstances of the exercise, we won't be drawing any conclusions based on this test, so the loss of statistical power due to the use of a non-parametric test is inconsequential. We can use a Mann-Whitney U test to compare the differences in medians between the scores of students from the Big 2 and all other universities."
   ]
  },
  {
   "cell_type": "code",
   "execution_count": 18,
   "id": "f99033b9",
   "metadata": {},
   "outputs": [
    {
     "data": {
      "text/plain": [
       "MannwhitneyuResult(statistic=1991.0, pvalue=0.07149600831829096)"
      ]
     },
     "execution_count": 18,
     "metadata": {},
     "output_type": "execute_result"
    }
   ],
   "source": [
    "stats.mannwhitneyu(x=B2_scores, y=Other_uni_scores, alternative='two-sided', method='exact')"
   ]
  },
  {
   "cell_type": "markdown",
   "id": "caf920d0",
   "metadata": {},
   "source": [
    "The test returns a p-value of about 0.07, which is just above the conventional cut-off of 0.05 to be considered significant. Therefore, we can't be confident that the difference between the groups observed in the data is reflective of the larger population of students taking the exam at these institutions.\n",
    "\n",
    "## Test scores of students in MBA-terminal programs vs. those in bachelor's-terminal programs\n",
    "We can perform a similar test to compare the scores of MBA students with those in bachelor's programs. Given that a master's is a more advanced degree with more rigorous requirements for admission and graduation than a bachelor's, it is reasonable to expect that MBA students would perform better on the test. For our purposes here, we will classify an integrated program as being an MBA program, given that that is the terminal degree administered."
   ]
  },
  {
   "cell_type": "code",
   "execution_count": 19,
   "id": "73740e8f",
   "metadata": {},
   "outputs": [],
   "source": [
    "MBA_scores=data.loc[data['PROGRAM NAME'].isin(['Intg. BBA+MBA','MBA'])]\n",
    "MBA_scores=MBA_scores['TOTAL SCORE (OUT of 100)']"
   ]
  },
  {
   "cell_type": "code",
   "execution_count": 20,
   "id": "bc0911cf",
   "metadata": {},
   "outputs": [],
   "source": [
    "Bach_scores=data.loc[data['PROGRAM NAME'].isin(['BBA','B.Com'])]\n",
    "Bach_scores=Bach_scores['TOTAL SCORE (OUT of 100)']"
   ]
  },
  {
   "cell_type": "code",
   "execution_count": 46,
   "id": "25d8ad6e",
   "metadata": {},
   "outputs": [
    {
     "data": {
      "text/plain": [
       "<matplotlib.legend.Legend at 0x26472f4c0d0>"
      ]
     },
     "execution_count": 46,
     "metadata": {},
     "output_type": "execute_result"
    },
    {
     "data": {
      "image/png": "[encoded data removed]",
      "text/plain": [
       "<Figure size 640x480 with 1 Axes>"
      ]
     },
     "metadata": {},
     "output_type": "display_data"
    }
   ],
   "source": [
    "plt.hist([Bach_scores,MBA_scores], color=['b','r'], label=['MBA',\"Bachelor's\"],bins=20)\n",
    "plt.xlabel(\"Total Score\")\n",
    "plt.ylabel(\"Number of observations\")\n",
    "plt.legend()"
   ]
  },
  {
   "cell_type": "markdown",
   "id": "65154314",
   "metadata": {},
   "source": [
    "No clear difference between scores for each degree is evident from the histogram."
   ]
  },
  {
   "cell_type": "markdown",
   "id": "cd21b223",
   "metadata": {},
   "source": [
    "MBA_scores.describe()"
   ]
  },
  {
   "cell_type": "code",
   "execution_count": 22,
   "id": "a0f89789",
   "metadata": {},
   "outputs": [
    {
     "data": {
      "text/plain": [
       "count     81.000000\n",
       "mean      72.530864\n",
       "std       21.763551\n",
       "min        5.000000\n",
       "25%       62.000000\n",
       "50%       76.000000\n",
       "75%       90.000000\n",
       "max      100.000000\n",
       "Name: TOTAL SCORE (OUT of 100), dtype: float64"
      ]
     },
     "execution_count": 22,
     "metadata": {},
     "output_type": "execute_result"
    }
   ],
   "source": [
    "Bach_scores.describe()"
   ]
  },
  {
   "cell_type": "markdown",
   "id": "1404a238",
   "metadata": {},
   "source": [
    "The mean and median score of each degree group are comparable, so a statistical test is not likely to find a difference. However, we can follow through out of due diligence. Again, we'll use Mann-Whitney because the distributions are too skewed to be normal."
   ]
  },
  {
   "cell_type": "code",
   "execution_count": 23,
   "id": "be5979f2",
   "metadata": {},
   "outputs": [
    {
     "data": {
      "text/plain": [
       "MannwhitneyuResult(statistic=2627.5, pvalue=0.43969087712581)"
      ]
     },
     "execution_count": 23,
     "metadata": {},
     "output_type": "execute_result"
    }
   ],
   "source": [
    "stats.mannwhitneyu(x=MBA_scores, y=Bach_scores, alternative='two-sided')\n",
    "#We don't need to use the \"method=exact\" argument because there is a large enough number of observations in each group.\n",
    "#This is more computationally efficient."
   ]
  },
  {
   "cell_type": "markdown",
   "id": "28811258",
   "metadata": {},
   "source": [
    "As expected, the p-value is not even close to suggesting significance even though we have about evenly-size groups that are large by the standards of this data-set.\n",
    "\n",
    "# Other Interesting Questions/Data Enhancement\n",
    "\n",
    "We could continue to test for simple difference in scores between categories in other variables, but we would likely again be limited in our findings due to small sample sizes limiting the statistical power of tests. Therefore, it's more a more interesting exercise to make some assumptions about how the real-world data generating process works in order to probe beneath the surface and ask some more questions that may have interesting answers regardless of a lack of statistical power.\n",
    "\n",
    "## Performance of students whose exam domain does not match their specializations relative to their matched peers'\n",
    "For example, there are six domains for the exam, presumably specifying the subject area of the \"domain-specific\" portion of the exam, while the \"general management\" portion is the same for all students. Most students' \"specialisation\" is in an area similar to the domain of their exam. For example, we expect students specializing in international business to take the IB domain-specific version of the exam. However, there are some students who specialized in an area that does not clearly correspond to their exam domain or whose specialization does not have a clearly-corresponding domain. Do these students perform poorer on the domain-specific portion of the exam due to a lack of preparation from their specializations? We might expect to find this."
   ]
  },
  {
   "cell_type": "code",
   "execution_count": 24,
   "id": "241bc3c2",
   "metadata": {},
   "outputs": [],
   "source": [
    "#Select all students whose specialization clearly matches their domain\n",
    "IB=data.loc[(data['Domain']=='IB')&(data['Specialisation']=='International Business')]"
   ]
  },
  {
   "cell_type": "code",
   "execution_count": 25,
   "id": "77fd6e62",
   "metadata": {},
   "outputs": [],
   "source": [
    "Finance=data.loc[(data['Domain']=='Finance')&(data['Specialisation'].isin(['Finance','Financial Services','Financial Services with Digital Finance','Banking and Financial Services']))]"
   ]
  },
  {
   "cell_type": "code",
   "execution_count": 26,
   "id": "f8b49326",
   "metadata": {},
   "outputs": [],
   "source": [
    "EI=data.loc[(data['Domain']=='E&I')&(data['Specialisation'].isin(['Innovation Entrepreneurship and Venture Development','Entrepreneurship & Innovation']))]"
   ]
  },
  {
   "cell_type": "code",
   "execution_count": 27,
   "id": "c8408784",
   "metadata": {},
   "outputs": [],
   "source": [
    "BA=data.loc[(data['Domain']=='BA')&(data['Specialisation'].isin(['Business Analytics','Accounting Analytics','Information Technology with Accounting Analytics']))]"
   ]
  },
  {
   "cell_type": "code",
   "execution_count": 28,
   "id": "4e21cfc5",
   "metadata": {},
   "outputs": [],
   "source": [
    "DM=data.loc[(data['Domain']=='DM')&(data['Specialisation']=='Digital Marketing')]"
   ]
  },
  {
   "cell_type": "markdown",
   "id": "00079d8f",
   "metadata": {},
   "source": [
    "To start with, we can assume that students whose specialization does not clearly correspond to a specific domain are expected to take the \"generic\" version of the domain-specific portion."
   ]
  },
  {
   "cell_type": "code",
   "execution_count": 29,
   "id": "a9783980",
   "metadata": {},
   "outputs": [],
   "source": [
    "Generic=data.loc[(data['Domain']=='Generic')&(data['Specialisation'].isin(['Accounting','Honours','Brand Management']))]"
   ]
  },
  {
   "cell_type": "code",
   "execution_count": 30,
   "id": "6a566c99",
   "metadata": {},
   "outputs": [],
   "source": [
    "Matches=[IB,Finance,EI,BA,DM,Generic]\n",
    "Matches=pd.concat(Matches)"
   ]
  },
  {
   "cell_type": "code",
   "execution_count": 31,
   "id": "fa513755",
   "metadata": {},
   "outputs": [],
   "source": [
    "non_matches=data[~data.index.isin(Matches.index)]"
   ]
  },
  {
   "cell_type": "code",
   "execution_count": 32,
   "id": "652e0cda",
   "metadata": {},
   "outputs": [
    {
     "data": {
      "text/html": [
       "<div>\n",
       "<style scoped>\n",
       "    .dataframe tbody tr th:only-of-type {\n",
       "        vertical-align: middle;\n",
       "    }\n",
       "\n",
       "    .dataframe tbody tr th {\n",
       "        vertical-align: top;\n",
       "    }\n",
       "\n",
       "    .dataframe thead th {\n",
       "        text-align: right;\n",
       "    }\n",
       "</style>\n",
       "<table border=\"1\" class=\"dataframe\">\n",
       "  <thead>\n",
       "    <tr style=\"text-align: right;\">\n",
       "      <th></th>\n",
       "      <th>Unnamed: 0</th>\n",
       "      <th>NAME OF THE STUDENT</th>\n",
       "      <th>UNIVERSITY</th>\n",
       "      <th>PROGRAM NAME</th>\n",
       "      <th>Specialisation</th>\n",
       "      <th>SEMESTER</th>\n",
       "      <th>Domain</th>\n",
       "      <th>GENERAL MANAGEMENT SCORE (OUT of 50)</th>\n",
       "      <th>Domain Specific SCORE (OUT 50)</th>\n",
       "      <th>TOTAL SCORE (OUT of 100)</th>\n",
       "      <th>RANK</th>\n",
       "      <th>PERCENTILE</th>\n",
       "      <th>Uni</th>\n",
       "    </tr>\n",
       "  </thead>\n",
       "  <tbody>\n",
       "    <tr>\n",
       "      <th>0</th>\n",
       "      <td>0</td>\n",
       "      <td>Camila Wood</td>\n",
       "      <td>Stanford University, USA</td>\n",
       "      <td>B.Com</td>\n",
       "      <td>Honours</td>\n",
       "      <td>5th</td>\n",
       "      <td>Finance</td>\n",
       "      <td>50</td>\n",
       "      <td>50</td>\n",
       "      <td>100</td>\n",
       "      <td>1</td>\n",
       "      <td>1.000000</td>\n",
       "      <td>Stanford University, USA</td>\n",
       "    </tr>\n",
       "    <tr>\n",
       "      <th>3</th>\n",
       "      <td>3</td>\n",
       "      <td>Evelyn Jenkins</td>\n",
       "      <td>Stanford University, USA</td>\n",
       "      <td>B.Com</td>\n",
       "      <td>Honours</td>\n",
       "      <td>5th</td>\n",
       "      <td>Finance</td>\n",
       "      <td>49</td>\n",
       "      <td>50</td>\n",
       "      <td>99</td>\n",
       "      <td>4</td>\n",
       "      <td>0.980132</td>\n",
       "      <td>Stanford University, USA</td>\n",
       "    </tr>\n",
       "    <tr>\n",
       "      <th>5</th>\n",
       "      <td>5</td>\n",
       "      <td>Chloe Moore</td>\n",
       "      <td>Stanford University, USA</td>\n",
       "      <td>B.Com</td>\n",
       "      <td>Honours</td>\n",
       "      <td>5th</td>\n",
       "      <td>Finance</td>\n",
       "      <td>50</td>\n",
       "      <td>48</td>\n",
       "      <td>98</td>\n",
       "      <td>6</td>\n",
       "      <td>0.966887</td>\n",
       "      <td>Stanford University, USA</td>\n",
       "    </tr>\n",
       "    <tr>\n",
       "      <th>8</th>\n",
       "      <td>8</td>\n",
       "      <td>Aiden Rivera</td>\n",
       "      <td>Stanford University, USA</td>\n",
       "      <td>B.Com</td>\n",
       "      <td>Honours</td>\n",
       "      <td>5th</td>\n",
       "      <td>Finance</td>\n",
       "      <td>50</td>\n",
       "      <td>47</td>\n",
       "      <td>97</td>\n",
       "      <td>9</td>\n",
       "      <td>0.947020</td>\n",
       "      <td>Stanford University, USA</td>\n",
       "    </tr>\n",
       "    <tr>\n",
       "      <th>26</th>\n",
       "      <td>26</td>\n",
       "      <td>Henry Perez</td>\n",
       "      <td>Stanford University, USA</td>\n",
       "      <td>B.Com</td>\n",
       "      <td>Honours</td>\n",
       "      <td>5th</td>\n",
       "      <td>Finance</td>\n",
       "      <td>41</td>\n",
       "      <td>50</td>\n",
       "      <td>91</td>\n",
       "      <td>27</td>\n",
       "      <td>0.827815</td>\n",
       "      <td>Stanford University, USA</td>\n",
       "    </tr>\n",
       "    <tr>\n",
       "      <th>28</th>\n",
       "      <td>28</td>\n",
       "      <td>Gabriel Miller</td>\n",
       "      <td>Stanford University, USA</td>\n",
       "      <td>B.Com</td>\n",
       "      <td>Honours</td>\n",
       "      <td>5th</td>\n",
       "      <td>Finance</td>\n",
       "      <td>44</td>\n",
       "      <td>46</td>\n",
       "      <td>90</td>\n",
       "      <td>29</td>\n",
       "      <td>0.814570</td>\n",
       "      <td>Stanford University, USA</td>\n",
       "    </tr>\n",
       "    <tr>\n",
       "      <th>34</th>\n",
       "      <td>34</td>\n",
       "      <td>James Harris</td>\n",
       "      <td>Stanford University, USA</td>\n",
       "      <td>B.Com</td>\n",
       "      <td>Accounting</td>\n",
       "      <td>5th</td>\n",
       "      <td>Finance</td>\n",
       "      <td>42</td>\n",
       "      <td>47</td>\n",
       "      <td>89</td>\n",
       "      <td>35</td>\n",
       "      <td>0.774834</td>\n",
       "      <td>Stanford University, USA</td>\n",
       "    </tr>\n",
       "    <tr>\n",
       "      <th>45</th>\n",
       "      <td>45</td>\n",
       "      <td>David Rodriguez</td>\n",
       "      <td>Harvard University, USA</td>\n",
       "      <td>MBA</td>\n",
       "      <td>Business Analytics</td>\n",
       "      <td>3rd</td>\n",
       "      <td>E&amp;I</td>\n",
       "      <td>47</td>\n",
       "      <td>41</td>\n",
       "      <td>88</td>\n",
       "      <td>46</td>\n",
       "      <td>0.701987</td>\n",
       "      <td>Harvard University, USA</td>\n",
       "    </tr>\n",
       "    <tr>\n",
       "      <th>46</th>\n",
       "      <td>46</td>\n",
       "      <td>Aria Nelson</td>\n",
       "      <td>Stanford University, USA</td>\n",
       "      <td>B.Com</td>\n",
       "      <td>Honours</td>\n",
       "      <td>5th</td>\n",
       "      <td>Finance</td>\n",
       "      <td>45</td>\n",
       "      <td>42</td>\n",
       "      <td>87</td>\n",
       "      <td>47</td>\n",
       "      <td>0.695364</td>\n",
       "      <td>Stanford University, USA</td>\n",
       "    </tr>\n",
       "    <tr>\n",
       "      <th>73</th>\n",
       "      <td>73</td>\n",
       "      <td>Logan Turner</td>\n",
       "      <td>Stanford University, USA</td>\n",
       "      <td>B.Com</td>\n",
       "      <td>Finance</td>\n",
       "      <td>5th</td>\n",
       "      <td>Generic</td>\n",
       "      <td>47</td>\n",
       "      <td>28</td>\n",
       "      <td>75</td>\n",
       "      <td>74</td>\n",
       "      <td>0.516556</td>\n",
       "      <td>Stanford University, USA</td>\n",
       "    </tr>\n",
       "    <tr>\n",
       "      <th>79</th>\n",
       "      <td>79</td>\n",
       "      <td>Chloe Williams</td>\n",
       "      <td>Stanford University, USA</td>\n",
       "      <td>BBA</td>\n",
       "      <td>International Business</td>\n",
       "      <td>5th</td>\n",
       "      <td>Generic</td>\n",
       "      <td>42</td>\n",
       "      <td>31</td>\n",
       "      <td>73</td>\n",
       "      <td>80</td>\n",
       "      <td>0.476821</td>\n",
       "      <td>Stanford University, USA</td>\n",
       "    </tr>\n",
       "    <tr>\n",
       "      <th>84</th>\n",
       "      <td>84</td>\n",
       "      <td>Amelia Harris</td>\n",
       "      <td>Stanford University, USA</td>\n",
       "      <td>BBA</td>\n",
       "      <td>International Business</td>\n",
       "      <td>5th</td>\n",
       "      <td>Generic</td>\n",
       "      <td>42</td>\n",
       "      <td>30</td>\n",
       "      <td>72</td>\n",
       "      <td>85</td>\n",
       "      <td>0.443709</td>\n",
       "      <td>Stanford University, USA</td>\n",
       "    </tr>\n",
       "    <tr>\n",
       "      <th>95</th>\n",
       "      <td>95</td>\n",
       "      <td>Oliver Parker</td>\n",
       "      <td>California Institute of Technology (Caltech), USA</td>\n",
       "      <td>BBA</td>\n",
       "      <td>Brand Management</td>\n",
       "      <td>5th</td>\n",
       "      <td>DM</td>\n",
       "      <td>36</td>\n",
       "      <td>33</td>\n",
       "      <td>69</td>\n",
       "      <td>96</td>\n",
       "      <td>0.370861</td>\n",
       "      <td>Other</td>\n",
       "    </tr>\n",
       "    <tr>\n",
       "      <th>100</th>\n",
       "      <td>100</td>\n",
       "      <td>Henry Gonzalez</td>\n",
       "      <td>Harvard University, USA</td>\n",
       "      <td>MBA</td>\n",
       "      <td>International Business</td>\n",
       "      <td>3rd</td>\n",
       "      <td>DM</td>\n",
       "      <td>36</td>\n",
       "      <td>31</td>\n",
       "      <td>67</td>\n",
       "      <td>101</td>\n",
       "      <td>0.337748</td>\n",
       "      <td>Harvard University, USA</td>\n",
       "    </tr>\n",
       "    <tr>\n",
       "      <th>107</th>\n",
       "      <td>107</td>\n",
       "      <td>Michael Evans</td>\n",
       "      <td>Stanford University, USA</td>\n",
       "      <td>B.Com</td>\n",
       "      <td>Finance</td>\n",
       "      <td>5th</td>\n",
       "      <td>Generic</td>\n",
       "      <td>35</td>\n",
       "      <td>28</td>\n",
       "      <td>63</td>\n",
       "      <td>108</td>\n",
       "      <td>0.291391</td>\n",
       "      <td>Stanford University, USA</td>\n",
       "    </tr>\n",
       "    <tr>\n",
       "      <th>117</th>\n",
       "      <td>117</td>\n",
       "      <td>Sofia Nelson</td>\n",
       "      <td>Stanford University, USA</td>\n",
       "      <td>B.Com</td>\n",
       "      <td>Business Analytics</td>\n",
       "      <td>5th</td>\n",
       "      <td>Generic</td>\n",
       "      <td>30</td>\n",
       "      <td>29</td>\n",
       "      <td>59</td>\n",
       "      <td>118</td>\n",
       "      <td>0.225166</td>\n",
       "      <td>Stanford University, USA</td>\n",
       "    </tr>\n",
       "    <tr>\n",
       "      <th>127</th>\n",
       "      <td>127</td>\n",
       "      <td>Lily Davis</td>\n",
       "      <td>Stanford University, USA</td>\n",
       "      <td>BBA</td>\n",
       "      <td>Business Analytics</td>\n",
       "      <td>3rd</td>\n",
       "      <td>IB</td>\n",
       "      <td>33</td>\n",
       "      <td>14</td>\n",
       "      <td>47</td>\n",
       "      <td>128</td>\n",
       "      <td>0.158940</td>\n",
       "      <td>Stanford University, USA</td>\n",
       "    </tr>\n",
       "    <tr>\n",
       "      <th>137</th>\n",
       "      <td>137</td>\n",
       "      <td>Scarlett Cooper</td>\n",
       "      <td>University of Oxford, UK</td>\n",
       "      <td>Intg. BBA+MBA</td>\n",
       "      <td>Business Analytics</td>\n",
       "      <td>9th</td>\n",
       "      <td>Finance</td>\n",
       "      <td>15</td>\n",
       "      <td>19</td>\n",
       "      <td>34</td>\n",
       "      <td>138</td>\n",
       "      <td>0.092715</td>\n",
       "      <td>Other</td>\n",
       "    </tr>\n",
       "    <tr>\n",
       "      <th>140</th>\n",
       "      <td>140</td>\n",
       "      <td>Lucas Hayes</td>\n",
       "      <td>Stanford University, USA</td>\n",
       "      <td>B.Com</td>\n",
       "      <td>Honours</td>\n",
       "      <td>5th</td>\n",
       "      <td>Finance</td>\n",
       "      <td>17</td>\n",
       "      <td>13</td>\n",
       "      <td>30</td>\n",
       "      <td>141</td>\n",
       "      <td>0.072848</td>\n",
       "      <td>Stanford University, USA</td>\n",
       "    </tr>\n",
       "    <tr>\n",
       "      <th>141</th>\n",
       "      <td>141</td>\n",
       "      <td>Aria King</td>\n",
       "      <td>University of Cambridge, UK</td>\n",
       "      <td>BBA</td>\n",
       "      <td>International Business</td>\n",
       "      <td>5th</td>\n",
       "      <td>Finance</td>\n",
       "      <td>15</td>\n",
       "      <td>15</td>\n",
       "      <td>30</td>\n",
       "      <td>142</td>\n",
       "      <td>0.066225</td>\n",
       "      <td>Other</td>\n",
       "    </tr>\n",
       "    <tr>\n",
       "      <th>142</th>\n",
       "      <td>142</td>\n",
       "      <td>Madison Harris</td>\n",
       "      <td>Harvard University, USA</td>\n",
       "      <td>MBA</td>\n",
       "      <td>Brand Management</td>\n",
       "      <td>3rd</td>\n",
       "      <td>E&amp;I</td>\n",
       "      <td>15</td>\n",
       "      <td>15</td>\n",
       "      <td>30</td>\n",
       "      <td>143</td>\n",
       "      <td>0.059603</td>\n",
       "      <td>Harvard University, USA</td>\n",
       "    </tr>\n",
       "    <tr>\n",
       "      <th>145</th>\n",
       "      <td>145</td>\n",
       "      <td>Evelyn Robinson</td>\n",
       "      <td>Harvard University, USA</td>\n",
       "      <td>MBA</td>\n",
       "      <td>Innovation Entrepreneurship and Venture Develo...</td>\n",
       "      <td>3rd</td>\n",
       "      <td>Finance</td>\n",
       "      <td>17</td>\n",
       "      <td>11</td>\n",
       "      <td>28</td>\n",
       "      <td>146</td>\n",
       "      <td>0.039735</td>\n",
       "      <td>Harvard University, USA</td>\n",
       "    </tr>\n",
       "    <tr>\n",
       "      <th>147</th>\n",
       "      <td>147</td>\n",
       "      <td>Ethan Martin</td>\n",
       "      <td>Stanford University, USA</td>\n",
       "      <td>BBA</td>\n",
       "      <td>International Business</td>\n",
       "      <td>5th</td>\n",
       "      <td>Generic</td>\n",
       "      <td>11</td>\n",
       "      <td>13</td>\n",
       "      <td>24</td>\n",
       "      <td>148</td>\n",
       "      <td>0.026490</td>\n",
       "      <td>Stanford University, USA</td>\n",
       "    </tr>\n",
       "  </tbody>\n",
       "</table>\n",
       "</div>"
      ],
      "text/plain": [
       "     Unnamed: 0 NAME OF THE STUDENT  \\\n",
       "0             0         Camila Wood   \n",
       "3             3      Evelyn Jenkins   \n",
       "5             5         Chloe Moore   \n",
       "8             8        Aiden Rivera   \n",
       "26           26         Henry Perez   \n",
       "28           28      Gabriel Miller   \n",
       "34           34        James Harris   \n",
       "45           45     David Rodriguez   \n",
       "46           46         Aria Nelson   \n",
       "73           73        Logan Turner   \n",
       "79           79      Chloe Williams   \n",
       "84           84       Amelia Harris   \n",
       "95           95       Oliver Parker   \n",
       "100         100      Henry Gonzalez   \n",
       "107         107       Michael Evans   \n",
       "117         117        Sofia Nelson   \n",
       "127         127          Lily Davis   \n",
       "137         137     Scarlett Cooper   \n",
       "140         140         Lucas Hayes   \n",
       "141         141           Aria King   \n",
       "142         142      Madison Harris   \n",
       "145         145     Evelyn Robinson   \n",
       "147         147        Ethan Martin   \n",
       "\n",
       "                                            UNIVERSITY   PROGRAM NAME  \\\n",
       "0                             Stanford University, USA          B.Com   \n",
       "3                             Stanford University, USA          B.Com   \n",
       "5                             Stanford University, USA          B.Com   \n",
       "8                             Stanford University, USA          B.Com   \n",
       "26                            Stanford University, USA          B.Com   \n",
       "28                            Stanford University, USA          B.Com   \n",
       "34                            Stanford University, USA          B.Com   \n",
       "45                             Harvard University, USA            MBA   \n",
       "46                            Stanford University, USA          B.Com   \n",
       "73                            Stanford University, USA          B.Com   \n",
       "79                            Stanford University, USA            BBA   \n",
       "84                            Stanford University, USA            BBA   \n",
       "95   California Institute of Technology (Caltech), USA            BBA   \n",
       "100                            Harvard University, USA            MBA   \n",
       "107                           Stanford University, USA          B.Com   \n",
       "117                           Stanford University, USA          B.Com   \n",
       "127                           Stanford University, USA            BBA   \n",
       "137                           University of Oxford, UK  Intg. BBA+MBA   \n",
       "140                           Stanford University, USA          B.Com   \n",
       "141                        University of Cambridge, UK            BBA   \n",
       "142                            Harvard University, USA            MBA   \n",
       "145                            Harvard University, USA            MBA   \n",
       "147                           Stanford University, USA            BBA   \n",
       "\n",
       "                                        Specialisation SEMESTER   Domain  \\\n",
       "0                                              Honours      5th  Finance   \n",
       "3                                              Honours      5th  Finance   \n",
       "5                                              Honours      5th  Finance   \n",
       "8                                              Honours      5th  Finance   \n",
       "26                                             Honours      5th  Finance   \n",
       "28                                             Honours      5th  Finance   \n",
       "34                                          Accounting      5th  Finance   \n",
       "45                                  Business Analytics      3rd      E&I   \n",
       "46                                             Honours      5th  Finance   \n",
       "73                                             Finance      5th  Generic   \n",
       "79                              International Business      5th  Generic   \n",
       "84                              International Business      5th  Generic   \n",
       "95                                    Brand Management      5th       DM   \n",
       "100                             International Business      3rd       DM   \n",
       "107                                            Finance      5th  Generic   \n",
       "117                                 Business Analytics      5th  Generic   \n",
       "127                                 Business Analytics      3rd       IB   \n",
       "137                                 Business Analytics      9th  Finance   \n",
       "140                                            Honours      5th  Finance   \n",
       "141                             International Business      5th  Finance   \n",
       "142                                   Brand Management      3rd      E&I   \n",
       "145  Innovation Entrepreneurship and Venture Develo...      3rd  Finance   \n",
       "147                             International Business      5th  Generic   \n",
       "\n",
       "     GENERAL MANAGEMENT SCORE (OUT of 50)  Domain Specific SCORE (OUT 50)  \\\n",
       "0                                      50                              50   \n",
       "3                                      49                              50   \n",
       "5                                      50                              48   \n",
       "8                                      50                              47   \n",
       "26                                     41                              50   \n",
       "28                                     44                              46   \n",
       "34                                     42                              47   \n",
       "45                                     47                              41   \n",
       "46                                     45                              42   \n",
       "73                                     47                              28   \n",
       "79                                     42                              31   \n",
       "84                                     42                              30   \n",
       "95                                     36                              33   \n",
       "100                                    36                              31   \n",
       "107                                    35                              28   \n",
       "117                                    30                              29   \n",
       "127                                    33                              14   \n",
       "137                                    15                              19   \n",
       "140                                    17                              13   \n",
       "141                                    15                              15   \n",
       "142                                    15                              15   \n",
       "145                                    17                              11   \n",
       "147                                    11                              13   \n",
       "\n",
       "     TOTAL SCORE (OUT of 100)  RANK  PERCENTILE                       Uni  \n",
       "0                         100     1    1.000000  Stanford University, USA  \n",
       "3                          99     4    0.980132  Stanford University, USA  \n",
       "5                          98     6    0.966887  Stanford University, USA  \n",
       "8                          97     9    0.947020  Stanford University, USA  \n",
       "26                         91    27    0.827815  Stanford University, USA  \n",
       "28                         90    29    0.814570  Stanford University, USA  \n",
       "34                         89    35    0.774834  Stanford University, USA  \n",
       "45                         88    46    0.701987   Harvard University, USA  \n",
       "46                         87    47    0.695364  Stanford University, USA  \n",
       "73                         75    74    0.516556  Stanford University, USA  \n",
       "79                         73    80    0.476821  Stanford University, USA  \n",
       "84                         72    85    0.443709  Stanford University, USA  \n",
       "95                         69    96    0.370861                     Other  \n",
       "100                        67   101    0.337748   Harvard University, USA  \n",
       "107                        63   108    0.291391  Stanford University, USA  \n",
       "117                        59   118    0.225166  Stanford University, USA  \n",
       "127                        47   128    0.158940  Stanford University, USA  \n",
       "137                        34   138    0.092715                     Other  \n",
       "140                        30   141    0.072848  Stanford University, USA  \n",
       "141                        30   142    0.066225                     Other  \n",
       "142                        30   143    0.059603   Harvard University, USA  \n",
       "145                        28   146    0.039735   Harvard University, USA  \n",
       "147                        24   148    0.026490  Stanford University, USA  "
      ]
     },
     "execution_count": 32,
     "metadata": {},
     "output_type": "execute_result"
    }
   ],
   "source": [
    "non_matches"
   ]
  },
  {
   "cell_type": "code",
   "execution_count": 33,
   "id": "6d4c7090",
   "metadata": {},
   "outputs": [],
   "source": [
    "Matches=Matches['Domain Specific SCORE (OUT 50)']"
   ]
  },
  {
   "cell_type": "code",
   "execution_count": 34,
   "id": "912b8e68",
   "metadata": {},
   "outputs": [
    {
     "data": {
      "text/plain": [
       "128"
      ]
     },
     "execution_count": 34,
     "metadata": {},
     "output_type": "execute_result"
    }
   ],
   "source": [
    "Matches.count()"
   ]
  },
  {
   "cell_type": "code",
   "execution_count": 35,
   "id": "99c875be",
   "metadata": {},
   "outputs": [
    {
     "data": {
      "text/plain": [
       "23"
      ]
     },
     "execution_count": 35,
     "metadata": {},
     "output_type": "execute_result"
    }
   ],
   "source": [
    "non_matches=non_matches['Domain Specific SCORE (OUT 50)']\n",
    "non_matches.count()"
   ]
  },
  {
   "cell_type": "markdown",
   "id": "5739f317",
   "metadata": {},
   "source": [
    "23 students took the domain-specific portion of the exam in a subject area that does not obviously correspond to their specialization. Let's see how these students' domain-specific scores compared to those whose specializations matched their domains."
   ]
  },
  {
   "cell_type": "code",
   "execution_count": 36,
   "id": "b49b1c63",
   "metadata": {},
   "outputs": [
    {
     "data": {
      "text/plain": [
       "<matplotlib.legend.Legend at 0x26471fdd510>"
      ]
     },
     "execution_count": 36,
     "metadata": {},
     "output_type": "execute_result"
    },
    {
     "data": {
      "image/png": "[encoded data removed]",
      "text/plain": [
       "<Figure size 640x480 with 1 Axes>"
      ]
     },
     "metadata": {},
     "output_type": "display_data"
    }
   ],
   "source": [
    "plt.hist([Matches, non_matches], color=['g','y'], label=['Match','Does not match'],bins=10)\n",
    "plt.xlabel(\"Domain-specific Score\")\n",
    "plt.ylabel(\"Number of observations\")\n",
    "plt.legend()"
   ]
  },
  {
   "cell_type": "markdown",
   "id": "63aecb2d",
   "metadata": {},
   "source": [
    "The small number of observations of non-matches makes it difficult to visually observe a describable difference, although it does appear that non-matches perhaps tended to perform slightly worse."
   ]
  },
  {
   "cell_type": "code",
   "execution_count": 48,
   "id": "3d786a81",
   "metadata": {},
   "outputs": [
    {
     "name": "stdout",
     "output_type": "stream",
     "text": [
      "count    128.00000\n",
      "mean      33.96875\n",
      "std       11.46507\n",
      "min        1.00000\n",
      "25%       27.00000\n",
      "50%       36.00000\n",
      "75%       43.00000\n",
      "max       50.00000\n",
      "Name: Domain Specific SCORE (OUT 50), dtype: float64 count    23.000000\n",
      "mean     31.782609\n",
      "std      14.038766\n",
      "min      11.000000\n",
      "25%      17.000000\n",
      "50%      31.000000\n",
      "75%      46.500000\n",
      "max      50.000000\n",
      "Name: Domain Specific SCORE (OUT 50), dtype: float64\n"
     ]
    }
   ],
   "source": [
    "print(Matches.describe(),\n",
    "non_matches.describe())"
   ]
  },
  {
   "cell_type": "markdown",
   "id": "91d368a0",
   "metadata": {},
   "source": [
    "The means of the groups are comparable, but the medians are slightly more differentiated. We can perform another non-parametric (as they are clearly not normally-distributed) test to see if the medians of the categories are significantly different."
   ]
  },
  {
   "cell_type": "code",
   "execution_count": 39,
   "id": "c3c8a036",
   "metadata": {},
   "outputs": [
    {
     "data": {
      "text/plain": [
       "MannwhitneyuResult(statistic=1581.5, pvalue=0.5721254563895781)"
      ]
     },
     "execution_count": 39,
     "metadata": {},
     "output_type": "execute_result"
    }
   ],
   "source": [
    "stats.mannwhitneyu(x=Matches, y=non_matches, alternative='two-sided')"
   ]
  },
  {
   "cell_type": "markdown",
   "id": "3ff316d2",
   "metadata": {},
   "source": [
    "Again, we fail to find a statistically significant difference."
   ]
  },
  {
   "cell_type": "markdown",
   "id": "fa33b1e3",
   "metadata": {},
   "source": [
    "## Exam scores for UK vs. USA students\n",
    "\n",
    "Lastly, it may be interesting to try to tease out some new-- potentially theoretically-meaningful-- information not contained within the variables provided. Educational institutions differ with respect to their unique characteristics, but also with respect to their contexts, including their country of location. Differences in culture, educational policy, etc. between countries may be expected to have tangible effects on educational outcomes. Therefore, we can create a new variable for the country in which the institution is located in order to compare student outcomes. "
   ]
  },
  {
   "cell_type": "code",
   "execution_count": 40,
   "id": "0059311d",
   "metadata": {},
   "outputs": [],
   "source": [
    "data['country']=data['UNIVERSITY'].str.replace('University of Oxford, UK','UK').replace('Massachusetts Institute of Technology (MIT), USA','USA').replace('University of Cambridge, UK','UK').replace('California Institute of Technology (Caltech), USA','USA').replace('Imperial College London, UK','UK').replace('Stanford University, USA','USA').replace('Harvard University, USA','USA')"
   ]
  },
  {
   "cell_type": "code",
   "execution_count": 41,
   "id": "3b6dae3e",
   "metadata": {},
   "outputs": [
    {
     "data": {
      "text/plain": [
       "country\n",
       "USA    136\n",
       "UK      15\n",
       "Name: count, dtype: int64"
      ]
     },
     "execution_count": 41,
     "metadata": {},
     "output_type": "execute_result"
    }
   ],
   "source": [
    "data['country'].value_counts()"
   ]
  },
  {
   "cell_type": "markdown",
   "id": "7f934373",
   "metadata": {},
   "source": [
    "Only 15 students from UK institutions are in the dataset. This is only an exercise in investigation as the sample size is too small to draw conclusions, but we can still examine any differences between the groups."
   ]
  },
  {
   "cell_type": "code",
   "execution_count": 42,
   "id": "f3db80fb",
   "metadata": {},
   "outputs": [],
   "source": [
    "USA=data.loc[data['country']=='USA']\n",
    "USA=USA['TOTAL SCORE (OUT of 100)']"
   ]
  },
  {
   "cell_type": "code",
   "execution_count": 43,
   "id": "ae1ef57c",
   "metadata": {},
   "outputs": [],
   "source": [
    "UK=data.loc[data['country']=='UK']\n",
    "UK=UK['TOTAL SCORE (OUT of 100)']"
   ]
  },
  {
   "cell_type": "code",
   "execution_count": 44,
   "id": "05a025c0",
   "metadata": {},
   "outputs": [
    {
     "data": {
      "text/plain": [
       "<matplotlib.legend.Legend at 0x26472da24d0>"
      ]
     },
     "execution_count": 44,
     "metadata": {},
     "output_type": "execute_result"
    },
    {
     "data": {
      "image/png": "[encoded data removed]",
      "text/plain": [
       "<Figure size 640x480 with 1 Axes>"
      ]
     },
     "metadata": {},
     "output_type": "display_data"
    }
   ],
   "source": [
    "plt.hist([USA,UK], color=['b','r'], label=['USA','UK'],bins=20)\n",
    "plt.xlabel(\"Total Score\")\n",
    "plt.ylabel(\"Number of observations\")\n",
    "plt.legend()"
   ]
  },
  {
   "cell_type": "markdown",
   "id": "ea421df3",
   "metadata": {},
   "source": [
    "There are too few UK scores to visually observe a pattern and make a comparison with the USA scores, but we can use statistics."
   ]
  },
  {
   "cell_type": "code",
   "execution_count": 49,
   "id": "fc0d42e3",
   "metadata": {},
   "outputs": [
    {
     "name": "stdout",
     "output_type": "stream",
     "text": [
      "count    136.000000\n",
      "mean      72.161765\n",
      "std       20.966718\n",
      "min        5.000000\n",
      "25%       62.000000\n",
      "50%       75.000000\n",
      "75%       89.000000\n",
      "max      100.000000\n",
      "Name: TOTAL SCORE (OUT of 100), dtype: float64 count    15.000000\n",
      "mean     66.800000\n",
      "std      23.431359\n",
      "min      30.000000\n",
      "25%      55.000000\n",
      "50%      66.000000\n",
      "75%      89.500000\n",
      "max      96.000000\n",
      "Name: TOTAL SCORE (OUT of 100), dtype: float64\n"
     ]
    }
   ],
   "source": [
    "print(USA.describe(), UK.describe())"
   ]
  },
  {
   "cell_type": "markdown",
   "id": "27f49efe",
   "metadata": {},
   "source": [
    "The mean and median scores are notably lower for UK schools than USA ones at face value, but let's see if that stands up to a test."
   ]
  },
  {
   "cell_type": "code",
   "execution_count": 45,
   "id": "42e9b712",
   "metadata": {},
   "outputs": [
    {
     "data": {
      "text/plain": [
       "MannwhitneyuResult(statistic=1162.5, pvalue=0.37684816750920613)"
      ]
     },
     "execution_count": 45,
     "metadata": {},
     "output_type": "execute_result"
    }
   ],
   "source": [
    "stats.mannwhitneyu(x=USA, y=UK, alternative='two-sided')"
   ]
  },
  {
   "cell_type": "markdown",
   "id": "636af4ce",
   "metadata": {},
   "source": [
    "The test does not suggest there's a meaningful difference between scores by country, but again this could be due to small sample size limiting the power. However, even in potential future investigations into differences in scores by country with a larger number of observations of similar data, any significant differences between countries could be confounded by differences between universities that are independent of their countries. For example, we found a nearly statistically significant difference in scores between the Big 2 universities and all others in the data such that students at the Big 2 tended to score higher than those who were not. Notably, though, both of the Big 2 are located in the US, while all of the UK schools were classified as \"Other\". Thus, if, for example, it is found that students in the USA perform significantly better than students in the UK, it is not necessarily due to differences between the countries but could instead be an artifact of the general superiority of educational outcomes for students who attend the Big 2. More observations of scores from students who attend other institutions outside of the Big 2 in both the US and the UK would be necessary to tease out the underlying cause of the effect."
   ]
  }
 ],
 "metadata": {
  "kernelspec": {
   "display_name": "Python 3 (ipykernel)",
   "language": "python",
   "name": "python3"
  },
  "language_info": {
   "codemirror_mode": {
    "name": "ipython",
    "version": 3
   },
   "file_extension": ".py",
   "mimetype": "text/x-python",
   "name": "python",
   "nbconvert_exporter": "python",
   "pygments_lexer": "ipython3",
   "version": "3.11.5"
  }
 },
 "nbformat": 4,
 "nbformat_minor": 5
}
